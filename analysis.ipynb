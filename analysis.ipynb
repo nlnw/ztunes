{
 "cells": [
  {
   "cell_type": "code",
   "execution_count": 1,
   "metadata": {
    "pycharm": {
     "name": "#%%\n"
    }
   },
   "outputs": [],
   "source": [
    "import json\n",
    "# Retrieved from https://github.com/neume-network/data/blob/main/results/music-os-accumulator-extraction?raw=true\n",
    "with open('music-os-accumulator-extraction.txt') as f:\n",
    "    data = json.load(f)"
   ]
  },
  {
   "cell_type": "code",
   "execution_count": 2,
   "metadata": {
    "pycharm": {
     "name": "#%%\n"
    }
   },
   "outputs": [
    {
     "name": "stdout",
     "output_type": "stream",
     "text": [
      "{'artist': {'name': 'raays', 'version': '0.1.0'},\n",
      " 'duration': 'PT2M54S',\n",
      " 'erc721': {'address': '0xabefbc9fd2f806065b4f3c237d4b59d9a97bcac7',\n",
      "            'createdAt': '14327972',\n",
      "            'metadata': {'body': {'artist': 'raays',\n",
      "                                  'artwork': {'info': {'mimeType': 'image/png',\n",
      "                                                       'uri': 'https://ipfs.io/ipfs/bafybeifkgeahls7yhf4zpewtvxkvgegaky2jqhzgmkqwqfh74mrfetanmi'},\n",
      "                                              'isNft': False,\n",
      "                                              'nft': None},\n",
      "                                  'duration': 174.048,\n",
      "                                  'mimeType': 'audio/wav',\n",
      "                                  'notes': 'REFLECTING ON NEW EXPERIENCES.\\r\\n'\n",
      "                                           'I am continually discovering new '\n",
      "                                           'parts of myself.\\r\\n'\n",
      "                                           'An endless basin of new resources '\n",
      "                                           'and intrigue.\\r\\n'\n",
      "                                           '\\r\\n'\n",
      "                                           '--\\r\\n'\n",
      "                                           '\\r\\n'\n",
      "                                           '1 of 6 in the Innervzm series.\\r\\n'\n",
      "                                           '\\r\\n'\n",
      "                                           '--\\r\\n'\n",
      "                                           '\\r\\n'\n",
      "                                           'Raays is the pliable producer & '\n",
      "                                           'multi-instrumentalist birthed '\n",
      "                                           'Aaron Rays. Currently creating in '\n",
      "                                           'Los Angeles, he is a core '\n",
      "                                           'contributor to the Leaving Records '\n",
      "                                           'GenreDAO, and an active musical '\n",
      "                                           'member of its All Genre scene.',\n",
      "                                  'project': {'artwork': {'info': {'mimeType': 'image/png',\n",
      "                                                                   'uri': 'https://ipfs.io/ipfs/bafybeifkgeahls7yhf4zpewtvxkvgegaky2jqhzgmkqwqfh74mrfetanmi'},\n",
      "                                                          'isNft': False,\n",
      "                                                          'nft': None},\n",
      "                                              'notes': 'Raays cites his '\n",
      "                                                       'synthesizer & '\n",
      "                                                       'percussion-threaded '\n",
      "                                                       'experimental ambient '\n",
      "                                                       'Innervzm EP as a '\n",
      "                                                       'universal conversation '\n",
      "                                                       \"conceived from one's \"\n",
      "                                                       'need for grounding, '\n",
      "                                                       'world design, and a '\n",
      "                                                       'deepening with nature. '\n",
      "                                                       'Created in '\n",
      "                                                       'collaboration with '\n",
      "                                                       'designer Ben Lu, the '\n",
      "                                                       'six songs are each '\n",
      "                                                       'poetically paired with '\n",
      "                                                       'a card of divination '\n",
      "                                                       'as an invitation to be '\n",
      "                                                       'examined by the '\n",
      "                                                       'listener.',\n",
      "                                              'title': 'Innervzm'},\n",
      "                                  'title': 'Raincloud',\n",
      "                                  'trackNumber': 2,\n",
      "                                  'version': 'catalog-20210202',\n",
      "                                  'visualizer': None},\n",
      "                         'description': 'REFLECTING ON NEW EXPERIENCES.\\r\\n'\n",
      "                                        'I am continually discovering new '\n",
      "                                        'parts of myself.\\r\\n'\n",
      "                                        'An endless basin of new resources and '\n",
      "                                        'intrigue.\\r\\n'\n",
      "                                        '\\r\\n'\n",
      "                                        '--\\r\\n'\n",
      "                                        '\\r\\n'\n",
      "                                        '1 of 6 in the Innervzm series.\\r\\n'\n",
      "                                        '\\r\\n'\n",
      "                                        '--\\r\\n'\n",
      "                                        '\\r\\n'\n",
      "                                        'Raays is the pliable producer & '\n",
      "                                        'multi-instrumentalist birthed Aaron '\n",
      "                                        'Rays. Currently creating in Los '\n",
      "                                        'Angeles, he is a core contributor to '\n",
      "                                        'the Leaving Records GenreDAO, and an '\n",
      "                                        'active musical member of its All '\n",
      "                                        'Genre scene.',\n",
      "                         'name': 'Raincloud',\n",
      "                         'origin': {'algorithm': 'secp256k1',\n",
      "                                    'encoding': 'rlp',\n",
      "                                    'publicKey': '0xc236541380fc0C2C05c2F2c6c52a21ED57c37952',\n",
      "                                    'signature': '0x653be39bc315242c07a18d5edd17ed36617fc2ed0fa0f9986b24f86298bd94224d57c822c527aeb06dcc600e44572901830385b21836d21bea7166003a7b2a5a1b'}},\n",
      "            'tokenId': '8422',\n",
      "            'tokenURI': 'https://neume.infura-ipfs.io/ipfs/bafybeidtlgfa4ezqvtgcz7pd3g6mcsmsn3jjqtu55pxls3gwevc3vwdqoa',\n",
      "            'version': '0.1.0'},\n",
      " 'manifestations': [{'uri': 'https://neume.infura-ipfs.io/ipfs/bafybeibydaawftsgr327bdo7e3j2jbzigvaacyu6wz7rrhlrkxcicw6nou',\n",
      "                     'version': '0.1.0'},\n",
      "                    {'mimetype': 'image',\n",
      "                     'uri': 'https://ipfs.io/ipfs/bafybeifkgeahls7yhf4zpewtvxkvgegaky2jqhzgmkqwqfh74mrfetanmi',\n",
      "                     'version': '0.1.0'}],\n",
      " 'platform': {'name': 'Catalog',\n",
      "              'uri': 'https://beta.catalog.works',\n",
      "              'version': '0.1.0'},\n",
      " 'title': 'Raincloud',\n",
      " 'version': '0.1.0'}\n"
     ]
    }
   ],
   "source": [
    "import pprint\n",
    "pprint.pprint(data[1000])"
   ]
  },
  {
   "cell_type": "code",
   "execution_count": 3,
   "metadata": {
    "pycharm": {
     "name": "#%%\n"
    }
   },
   "outputs": [
    {
     "ename": "TypeError",
     "evalue": "unsupported operand type(s) for |: 'dict' and 'dict'",
     "output_type": "error",
     "traceback": [
      "\u001B[0;31m---------------------------------------------------------------------------\u001B[0m",
      "\u001B[0;31mTypeError\u001B[0m                                 Traceback (most recent call last)",
      "Input \u001B[0;32mIn [3]\u001B[0m, in \u001B[0;36m<cell line: 2>\u001B[0;34m()\u001B[0m\n\u001B[1;32m      3\u001B[0m attributes \u001B[38;5;241m=\u001B[39m {\n\u001B[1;32m      4\u001B[0m     \u001B[38;5;124m'\u001B[39m\u001B[38;5;124m_ix\u001B[39m\u001B[38;5;124m'\u001B[39m: ix,\n\u001B[1;32m      5\u001B[0m     \u001B[38;5;124m'\u001B[39m\u001B[38;5;124martist\u001B[39m\u001B[38;5;124m'\u001B[39m: row[\u001B[38;5;124m'\u001B[39m\u001B[38;5;124martist\u001B[39m\u001B[38;5;124m'\u001B[39m][\u001B[38;5;124m'\u001B[39m\u001B[38;5;124mname\u001B[39m\u001B[38;5;124m'\u001B[39m],\n\u001B[0;32m   (...)\u001B[0m\n\u001B[1;32m      9\u001B[0m     \u001B[38;5;124m'\u001B[39m\u001B[38;5;124mplatform\u001B[39m\u001B[38;5;124m'\u001B[39m: row[\u001B[38;5;124m'\u001B[39m\u001B[38;5;124mplatform\u001B[39m\u001B[38;5;124m'\u001B[39m][\u001B[38;5;124m'\u001B[39m\u001B[38;5;124muri\u001B[39m\u001B[38;5;124m'\u001B[39m],\n\u001B[1;32m     10\u001B[0m }\n\u001B[1;32m     11\u001B[0m \u001B[38;5;28;01mif\u001B[39;00m \u001B[38;5;124m'\u001B[39m\u001B[38;5;124mbody\u001B[39m\u001B[38;5;124m'\u001B[39m \u001B[38;5;129;01min\u001B[39;00m row[\u001B[38;5;124m'\u001B[39m\u001B[38;5;124merc721\u001B[39m\u001B[38;5;124m'\u001B[39m][\u001B[38;5;124m'\u001B[39m\u001B[38;5;124mmetadata\u001B[39m\u001B[38;5;124m'\u001B[39m]:\n\u001B[0;32m---> 12\u001B[0m     attributes \u001B[38;5;241m=\u001B[39m \u001B[43mattributes\u001B[49m\u001B[43m \u001B[49m\u001B[38;5;241;43m|\u001B[39;49m\u001B[43m \u001B[49m\u001B[43m{\u001B[49m\n\u001B[1;32m     13\u001B[0m \u001B[43m        \u001B[49m\u001B[38;5;124;43m'\u001B[39;49m\u001B[38;5;124;43mduration\u001B[39;49m\u001B[38;5;124;43m'\u001B[39;49m\u001B[43m:\u001B[49m\u001B[43m \u001B[49m\u001B[43mrow\u001B[49m\u001B[43m[\u001B[49m\u001B[38;5;124;43m'\u001B[39;49m\u001B[38;5;124;43merc721\u001B[39;49m\u001B[38;5;124;43m'\u001B[39;49m\u001B[43m]\u001B[49m\u001B[43m[\u001B[49m\u001B[38;5;124;43m'\u001B[39;49m\u001B[38;5;124;43mmetadata\u001B[39;49m\u001B[38;5;124;43m'\u001B[39;49m\u001B[43m]\u001B[49m\u001B[43m[\u001B[49m\u001B[38;5;124;43m'\u001B[39;49m\u001B[38;5;124;43mbody\u001B[39;49m\u001B[38;5;124;43m'\u001B[39;49m\u001B[43m]\u001B[49m\u001B[43m[\u001B[49m\u001B[38;5;124;43m'\u001B[39;49m\u001B[38;5;124;43mduration\u001B[39;49m\u001B[38;5;124;43m'\u001B[39;49m\u001B[43m]\u001B[49m\u001B[43m,\u001B[49m\n\u001B[1;32m     14\u001B[0m \u001B[43m        \u001B[49m\u001B[38;5;124;43m'\u001B[39;49m\u001B[38;5;124;43martwork\u001B[39;49m\u001B[38;5;124;43m'\u001B[39;49m\u001B[43m:\u001B[49m\u001B[43m \u001B[49m\u001B[43mrow\u001B[49m\u001B[43m[\u001B[49m\u001B[38;5;124;43m'\u001B[39;49m\u001B[38;5;124;43merc721\u001B[39;49m\u001B[38;5;124;43m'\u001B[39;49m\u001B[43m]\u001B[49m\u001B[43m[\u001B[49m\u001B[38;5;124;43m'\u001B[39;49m\u001B[38;5;124;43mmetadata\u001B[39;49m\u001B[38;5;124;43m'\u001B[39;49m\u001B[43m]\u001B[49m\u001B[43m[\u001B[49m\u001B[38;5;124;43m'\u001B[39;49m\u001B[38;5;124;43mbody\u001B[39;49m\u001B[38;5;124;43m'\u001B[39;49m\u001B[43m]\u001B[49m\u001B[43m[\u001B[49m\u001B[38;5;124;43m'\u001B[39;49m\u001B[38;5;124;43martwork\u001B[39;49m\u001B[38;5;124;43m'\u001B[39;49m\u001B[43m]\u001B[49m\u001B[43m[\u001B[49m\u001B[38;5;124;43m'\u001B[39;49m\u001B[38;5;124;43minfo\u001B[39;49m\u001B[38;5;124;43m'\u001B[39;49m\u001B[43m]\u001B[49m\u001B[43m[\u001B[49m\u001B[38;5;124;43m'\u001B[39;49m\u001B[38;5;124;43muri\u001B[39;49m\u001B[38;5;124;43m'\u001B[39;49m\u001B[43m]\u001B[49m\u001B[43m,\u001B[49m\n\u001B[1;32m     15\u001B[0m \u001B[43m        \u001B[49m\u001B[38;5;124;43m'\u001B[39;49m\u001B[38;5;124;43mtitle\u001B[39;49m\u001B[38;5;124;43m'\u001B[39;49m\u001B[43m:\u001B[49m\u001B[43m \u001B[49m\u001B[43mrow\u001B[49m\u001B[43m[\u001B[49m\u001B[38;5;124;43m'\u001B[39;49m\u001B[38;5;124;43merc721\u001B[39;49m\u001B[38;5;124;43m'\u001B[39;49m\u001B[43m]\u001B[49m\u001B[43m[\u001B[49m\u001B[38;5;124;43m'\u001B[39;49m\u001B[38;5;124;43mmetadata\u001B[39;49m\u001B[38;5;124;43m'\u001B[39;49m\u001B[43m]\u001B[49m\u001B[43m[\u001B[49m\u001B[38;5;124;43m'\u001B[39;49m\u001B[38;5;124;43mbody\u001B[39;49m\u001B[38;5;124;43m'\u001B[39;49m\u001B[43m]\u001B[49m\u001B[43m[\u001B[49m\u001B[38;5;124;43m'\u001B[39;49m\u001B[38;5;124;43mtitle\u001B[39;49m\u001B[38;5;124;43m'\u001B[39;49m\u001B[43m]\u001B[49m\u001B[43m,\u001B[49m\n\u001B[1;32m     16\u001B[0m \u001B[43m        \u001B[49m\u001B[38;5;124;43m'\u001B[39;49m\u001B[38;5;124;43mduration\u001B[39;49m\u001B[38;5;124;43m'\u001B[39;49m\u001B[43m:\u001B[49m\u001B[43m \u001B[49m\u001B[43mrow\u001B[49m\u001B[43m[\u001B[49m\u001B[38;5;124;43m'\u001B[39;49m\u001B[38;5;124;43merc721\u001B[39;49m\u001B[38;5;124;43m'\u001B[39;49m\u001B[43m]\u001B[49m\u001B[43m[\u001B[49m\u001B[38;5;124;43m'\u001B[39;49m\u001B[38;5;124;43mmetadata\u001B[39;49m\u001B[38;5;124;43m'\u001B[39;49m\u001B[43m]\u001B[49m\u001B[43m[\u001B[49m\u001B[38;5;124;43m'\u001B[39;49m\u001B[38;5;124;43mbody\u001B[39;49m\u001B[38;5;124;43m'\u001B[39;49m\u001B[43m]\u001B[49m\u001B[43m[\u001B[49m\u001B[38;5;124;43m'\u001B[39;49m\u001B[38;5;124;43mduration\u001B[39;49m\u001B[38;5;124;43m'\u001B[39;49m\u001B[43m]\u001B[49m\n\u001B[1;32m     17\u001B[0m \u001B[43m    \u001B[49m\u001B[43m}\u001B[49m\n\u001B[1;32m     19\u001B[0m     \u001B[38;5;66;03m# Filter to shorter songs:\u001B[39;00m\n\u001B[1;32m     20\u001B[0m     \u001B[38;5;66;03m# if attributes['duration'] < 60*15:\u001B[39;00m\n\u001B[1;32m     21\u001B[0m min_attributes\u001B[38;5;241m.\u001B[39mappend([attributes[\u001B[38;5;124m'\u001B[39m\u001B[38;5;124maddress\u001B[39m\u001B[38;5;124m'\u001B[39m], attributes[\u001B[38;5;124m'\u001B[39m\u001B[38;5;124mtokenId\u001B[39m\u001B[38;5;124m'\u001B[39m]])\n",
      "\u001B[0;31mTypeError\u001B[0m: unsupported operand type(s) for |: 'dict' and 'dict'"
     ]
    }
   ],
   "source": [
    "min_attributes = []\n",
    "for ix, row in enumerate(data):\n",
    "    attributes = {\n",
    "        '_ix': ix,\n",
    "        'artist': row['artist']['name'],\n",
    "        'address': row['erc721']['address'],\n",
    "        'tokenId': row['erc721']['tokenId'],\n",
    "        'created': row['erc721']['createdAt'],\n",
    "        'platform': row['platform']['uri'],\n",
    "    }\n",
    "    if 'body' in row['erc721']['metadata']:\n",
    "        attributes = attributes | {\n",
    "            'duration': row['erc721']['metadata']['body']['duration'],\n",
    "            'artwork': row['erc721']['metadata']['body']['artwork']['info']['uri'],\n",
    "            'title': row['erc721']['metadata']['body']['title']\n",
    "        }\n",
    "    \n",
    "        # Filter to shorter songs:\n",
    "        # if attributes['duration'] < 60*15:\n",
    "    min_attributes.append([attributes['address'], attributes['tokenId']])\n",
    "\n",
    "print(len(min_attributes))"
   ]
  },
  {
   "cell_type": "code",
   "execution_count": null,
   "metadata": {
    "pycharm": {
     "name": "#%%\n"
    }
   },
   "outputs": [],
   "source": [
    "import random\n",
    "random.shuffle(min_attributes)\n",
    "min_attributes[:10]"
   ]
  },
  {
   "cell_type": "code",
   "execution_count": null,
   "metadata": {
    "pycharm": {
     "name": "#%%\n"
    }
   },
   "outputs": [],
   "source": [
    "with open('ztunes/src/songs.json', 'w') as f:\n",
    "    json.dump(min_attributes[:10000], f)\n"
   ]
  }
 ],
 "metadata": {
  "kernelspec": {
   "display_name": "Python 3.10.4 64-bit",
   "language": "python",
   "name": "python3"
  },
  "language_info": {
   "codemirror_mode": {
    "name": "ipython",
    "version": 3
   },
   "file_extension": ".py",
   "mimetype": "text/x-python",
   "name": "python",
   "nbconvert_exporter": "python",
   "pygments_lexer": "ipython3",
   "version": "3.10.4"
  },
  "orig_nbformat": 4,
  "vscode": {
   "interpreter": {
    "hash": "31f2aee4e71d21fbe5cf8b01ff0e069b9275f58929596ceb00d14d90e3e16cd6"
   }
  }
 },
 "nbformat": 4,
 "nbformat_minor": 2
}