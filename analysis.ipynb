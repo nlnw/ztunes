{
 "cells": [
  {
   "cell_type": "code",
   "execution_count": 9,
   "metadata": {},
   "outputs": [],
   "source": [
    "import json\n",
    "# Retrieved from https://github.com/neume-network/data/blob/main/results/music-os-accumulator-extraction?raw=true\n",
    "with open('music-os-accumulator-extraction.txt') as f:\n",
    "    data = json.load(f)"
   ]
  },
  {
   "cell_type": "code",
   "execution_count": 17,
   "metadata": {},
   "outputs": [
    {
     "name": "stdout",
     "output_type": "stream",
     "text": [
      "8423\n"
     ]
    }
   ],
   "source": [
    "min_attributes = []\n",
    "for ix, row in enumerate(data):\n",
    "    attributes = {\n",
    "        '_ix': ix,\n",
    "        'artist': row['artist']['name'],\n",
    "        'address': row['erc721']['address'],\n",
    "        'tokenId': row['erc721']['tokenId'],\n",
    "        'created': row['erc721']['createdAt'],\n",
    "        'platform': row['platform']['uri']\n",
    "    }\n",
    "    if 'body' in row['erc721']['metadata']:\n",
    "        attributes = attributes | {\n",
    "            'duration': row['erc721']['metadata']['body']['duration'],\n",
    "            'artwork': row['erc721']['metadata']['body']['artwork']['info']['uri'],\n",
    "            'title': row['erc721']['metadata']['body']['title'],\n",
    "        }\n",
    "    \n",
    "    min_attributes.append([attributes['address'], attributes['tokenId']])\n",
    "\n",
    "print(len(min_attributes))"
   ]
  },
  {
   "cell_type": "code",
   "execution_count": 20,
   "metadata": {},
   "outputs": [
    {
     "data": {
      "text/plain": [
       "[['0xd5d0bb6b5e6dd29055271b5ea9d2d746c66ce98d',\n",
       "  '1020847100762815390390123822295304634400'],\n",
       " ['0x37a03d4af1d7046d1126987b20117a0fdcbf6535', '131'],\n",
       " ['0x37ea31191cd45b4ad359c51be70c1af76a02a86d',\n",
       "  '340282366920938463463374607431768211545'],\n",
       " ['0x37a03d4af1d7046d1126987b20117a0fdcbf6535', '382'],\n",
       " ['0x29d8c82adba12c822c37090fc1cf7f430bbc1a60', '4'],\n",
       " ['0xb8fc20bd31e9e2cb9da93afc8a1d2f983834500f', '20'],\n",
       " ['0x8a98ecccf62ea92def2d8f9098eaf4a384130fa0',\n",
       "  '680564733841876926926749214863536422950'],\n",
       " ['0xabefbc9fd2f806065b4f3c237d4b59d9a97bcac7', '7706'],\n",
       " ['0x28b708ee88e608f3307a7d41b930312fc9c9e632', '2'],\n",
       " ['0xabefbc9fd2f806065b4f3c237d4b59d9a97bcac7', '4818']]"
      ]
     },
     "execution_count": 20,
     "metadata": {},
     "output_type": "execute_result"
    }
   ],
   "source": [
    "import random\n",
    "random.shuffle(min_attributes)\n",
    "min_attributes[:10]"
   ]
  },
  {
   "cell_type": "code",
   "execution_count": 23,
   "metadata": {},
   "outputs": [],
   "source": [
    "with open('ztunes/src/songs.json', 'w') as f:\n",
    "    json.dump(min_attributes[:1000], f)"
   ]
  }
 ],
 "metadata": {
  "kernelspec": {
   "display_name": "Python 3.10.4 64-bit",
   "language": "python",
   "name": "python3"
  },
  "language_info": {
   "codemirror_mode": {
    "name": "ipython",
    "version": 3
   },
   "file_extension": ".py",
   "mimetype": "text/x-python",
   "name": "python",
   "nbconvert_exporter": "python",
   "pygments_lexer": "ipython3",
   "version": "3.10.4"
  },
  "orig_nbformat": 4,
  "vscode": {
   "interpreter": {
    "hash": "31f2aee4e71d21fbe5cf8b01ff0e069b9275f58929596ceb00d14d90e3e16cd6"
   }
  }
 },
 "nbformat": 4,
 "nbformat_minor": 2
}
